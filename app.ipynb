{
 "cells": [
  {
   "cell_type": "markdown",
   "metadata": {},
   "source": [
    "**Open-Ended Lab Task 2:**\n",
    "\n",
    "**Objective:**\n",
    "\n",
    "Given a pattern and a string s, find if s follows the same pattern.\n",
    "Here follow means a full match, such that there is a bijection between a letter in pattern and a non-empty word in s. Specifically:\n",
    "\n",
    "- Each letter in pattern maps to exactly one unique word in s.\n",
    "- Each unique word in s maps to exactly one letter in pattern.\n",
    "- No two letters map to the same word, and no two words map to the same letter.\n",
    "---\n",
    "**Submission Requirements:**\n",
    "- Submit the program code along with comments explaining key sections of your implementation.\n",
    "- Optional: Submit screenshots of sample outputs or visualizations if implemented.\n",
    "---\n",
    "**Examples:**\n",
    "\n",
    "Example 1:\n",
    "\n",
    "Input: pattern = \"abba\", s = \"dog cat cat dog\"\n",
    "\n",
    "Output: true\n",
    "\n",
    "Explanation:\n",
    "\n",
    "The bijection can be established as:\n",
    "- 'a' maps to \"dog\".\n",
    "- 'b' maps to \"cat\".\n",
    "\n",
    "Example 2:\n",
    "\n",
    "Input: pattern = \"abba\", s = \"dog cat cat fish\"\n",
    "\n",
    "Output: false\n",
    "\n",
    "Example 3:\n",
    "\n",
    "Input: pattern = \"aaaa\", s = \"dog cat cat dog\"\n",
    "Output: false\n",
    "\n"
   ]
  },
  {
   "cell_type": "code",
   "execution_count": 1,
   "metadata": {},
   "outputs": [
    {
     "name": "stdout",
     "output_type": "stream",
     "text": [
      "True\n",
      "True\n",
      "True\n",
      "False\n",
      "True\n"
     ]
    }
   ],
   "source": [
    "def pattern_Word(pattern,string):\n",
    "    # Split String\n",
    "    words = string.split()\n",
    "    \n",
    "    #Check Pattern Length and Words Length\n",
    "    if len(pattern) != len(words):\n",
    "        print(\"Invalid\")\n",
    "        return False\n",
    "    \n",
    "    char_words = {}\n",
    "    words_char={}\n",
    "    \n",
    "    \n",
    "    for i in range(len(pattern)):\n",
    "        character = pattern[i]\n",
    "        word = words[i]\n",
    "        \n",
    "        if character in char_words:\n",
    "            # Mapped word doesn't match the current word - False\n",
    "            if char_words[character] != word:\n",
    "                return False\n",
    "        else:\n",
    "            # Word is mapped to another character - False (Duplicate)\n",
    "                if word in words_char:\n",
    "                    return False\n",
    "                \n",
    "                # NEW Mapping\n",
    "                char_words[character] = word\n",
    "                words_char[word] = character\n",
    "    return True\n",
    "\n",
    "\n",
    "print(pattern_Word(\"abba\",\"car bike bike car\"))\n",
    "print(pattern_Word(\"ccaa\",\"camel camel car car\"))\n",
    "print(pattern_Word(\"zzzz\",\"zain zain zain zain\"))\n",
    "print(pattern_Word(\"cccc\",\"camel car camel car\"))\n",
    "print(pattern_Word(\"kdkd\",\"abc def abc def\"))"
   ]
  }
 ],
 "metadata": {
  "kernelspec": {
   "display_name": "base",
   "language": "python",
   "name": "python3"
  },
  "language_info": {
   "codemirror_mode": {
    "name": "ipython",
    "version": 3
   },
   "file_extension": ".py",
   "mimetype": "text/x-python",
   "name": "python",
   "nbconvert_exporter": "python",
   "pygments_lexer": "ipython3",
   "version": "3.12.3"
  }
 },
 "nbformat": 4,
 "nbformat_minor": 2
}
